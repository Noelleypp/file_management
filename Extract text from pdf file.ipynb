{
 "cells": [
  {
   "cell_type": "code",
   "execution_count": 124,
   "metadata": {},
   "outputs": [],
   "source": [
    "from io import StringIO\n",
    "from pdfminer.high_level import extract_text_to_fp\n",
    "import os\n",
    "import pandas as pd\n",
    "import re\n",
    "\n",
    "\n",
    "path_of_the_directory= r'C:\\Users\\noell\\Desktop\\test 2'\n",
    "pattern_USCC = r'(?<=Tax No.:).*(?=Legal Form)'\n",
    "pattern_EN = r'(?<=Name:).*(?=Confidential)'\n",
    "pattern_CN = r'(?<=CN Name:).*(?=Co\\sType)'\n",
    "\n",
    "\n",
    "Dict = {'CN_name':[],'EN_name':[], 'USCC':[]}"
   ]
  },
  {
   "cell_type": "code",
   "execution_count": 125,
   "metadata": {},
   "outputs": [
    {
     "name": "stdout",
     "output_type": "stream",
     "text": [
      "C:\\Users\\noell\\Desktop\\test 2\\Shanghai Jingwei Technology Co., Ltd..pdf\n",
      "ddd <_io.StringIO object at 0x0000026ADDEDA948>\n",
      " Name:Shanghai Jingwei Technology Co., Ltd.Confidential for Authrized  \n",
      "\n",
      "\n",
      "C:\\Users\\noell\\Desktop\\test 2\\Shanghai Loftyman Flow Technology Co., Ltd..pdf\n",
      "ddd <_io.StringIO object at 0x0000026ADDD68558>\n",
      " Name:Shanghai Loftyman Flow Technology Co., Ltd.Confidential for Auth \n",
      "\n",
      "\n",
      "C:\\Users\\noell\\Desktop\\test 2\\Xiamen Yaoying E&M Equipment Co., Ltd..pdf\n",
      "ddd <_io.StringIO object at 0x0000026ADDEDA948>\n",
      " Name:Xiamen Yaoying E&M Equipment Co., Ltd.Confidential for Authrized \n",
      "\n",
      "\n"
     ]
    },
    {
     "data": {
      "text/html": [
       "<div>\n",
       "<style scoped>\n",
       "    .dataframe tbody tr th:only-of-type {\n",
       "        vertical-align: middle;\n",
       "    }\n",
       "\n",
       "    .dataframe tbody tr th {\n",
       "        vertical-align: top;\n",
       "    }\n",
       "\n",
       "    .dataframe thead th {\n",
       "        text-align: right;\n",
       "    }\n",
       "</style>\n",
       "<table border=\"1\" class=\"dataframe\">\n",
       "  <thead>\n",
       "    <tr style=\"text-align: right;\">\n",
       "      <th></th>\n",
       "      <th>CN_name</th>\n",
       "      <th>EN_name</th>\n",
       "      <th>USCC</th>\n",
       "    </tr>\n",
       "  </thead>\n",
       "  <tbody>\n",
       "    <tr>\n",
       "      <th>0</th>\n",
       "      <td>上海京蔚科技有限公司</td>\n",
       "      <td>Shanghai Jingwei Technology Co., Ltd.</td>\n",
       "      <td>91310116MA1JBQNP8Y</td>\n",
       "    </tr>\n",
       "    <tr>\n",
       "      <th>1</th>\n",
       "      <td>上海泺弗蔓流体科技有限公司</td>\n",
       "      <td>Shanghai Loftyman Flow Technology Co., Ltd.</td>\n",
       "      <td>91310000MA1K35Q88T</td>\n",
       "    </tr>\n",
       "    <tr>\n",
       "      <th>2</th>\n",
       "      <td>厦门耀盈机电设备有限公司</td>\n",
       "      <td>Xiamen Yaoying E&amp;M Equipment Co., Ltd.</td>\n",
       "      <td>91350203751643568H</td>\n",
       "    </tr>\n",
       "  </tbody>\n",
       "</table>\n",
       "</div>"
      ],
      "text/plain": [
       "         CN_name                                      EN_name  \\\n",
       "0     上海京蔚科技有限公司        Shanghai Jingwei Technology Co., Ltd.   \n",
       "1  上海泺弗蔓流体科技有限公司  Shanghai Loftyman Flow Technology Co., Ltd.   \n",
       "2   厦门耀盈机电设备有限公司       Xiamen Yaoying E&M Equipment Co., Ltd.   \n",
       "\n",
       "                 USCC  \n",
       "0  91310116MA1JBQNP8Y  \n",
       "1  91310000MA1K35Q88T  \n",
       "2  91350203751643568H  "
      ]
     },
     "execution_count": 125,
     "metadata": {},
     "output_type": "execute_result"
    }
   ],
   "source": [
    "\n",
    "for f in file_list:\n",
    "    print(f)\n",
    "    print('ddd', output_string)\n",
    "    if os.path.isfile(f):\n",
    "        output_string = StringIO()\n",
    "        with open(f, 'rb') as fin:\n",
    "            extract_text_to_fp(fin, output_string)\n",
    "\n",
    "        txt = output_string.getvalue()\n",
    "        print(txt[30:100], '\\n\\n')\n",
    "        matches = re.finditer(pattern_CN, txt) \n",
    "        for match in matches:\n",
    "            Dict['CN_name'].append(match.group())\n",
    "\n",
    "        matches = re.finditer(pattern_EN, txt) \n",
    "        for match in matches:\n",
    "            Dict['EN_name'].append(match.group())\n",
    "\n",
    "            \n",
    "        matches = re.finditer(pattern_USCC, txt) \n",
    "        for match in matches:\n",
    "            Dict['USCC'].append(match.group())    \n",
    "        \n",
    "pd.DataFrame.from_dict(Dict)"
   ]
  },
  {
   "cell_type": "code",
   "execution_count": null,
   "metadata": {},
   "outputs": [],
   "source": []
  },
  {
   "cell_type": "code",
   "execution_count": null,
   "metadata": {},
   "outputs": [],
   "source": []
  },
  {
   "cell_type": "code",
   "execution_count": null,
   "metadata": {},
   "outputs": [],
   "source": []
  }
 ],
 "metadata": {
  "kernelspec": {
   "display_name": "Python 3",
   "language": "python",
   "name": "python3"
  },
  "language_info": {
   "codemirror_mode": {
    "name": "ipython",
    "version": 3
   },
   "file_extension": ".py",
   "mimetype": "text/x-python",
   "name": "python",
   "nbconvert_exporter": "python",
   "pygments_lexer": "ipython3",
   "version": "3.7.9"
  }
 },
 "nbformat": 4,
 "nbformat_minor": 4
}
